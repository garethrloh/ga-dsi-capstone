{
 "cells": [
  {
   "cell_type": "markdown",
   "id": "industrial-humanity",
   "metadata": {},
   "source": [
    "# Model Optimisation and Conclusion\n",
    "This notebook will be used for model optimistaion. After which, I will use tools such as the ROC_AUC, classification report and confusion matrix to evaluate the final model.  \n",
    "After which, based on the statistics from the tools mentioned, a conclusion and recommendation will be presented.  \n",
    "## Content\n",
    "* [Import libraries and data](#Import-libraries-and-dataset)\n",
    "* [Model Optimisation and Implementation](#Model-Optimisation-and-Implementation)\n",
    "* [Conclusion](#Conclusion)\n",
    "* [Recommendations](#Recommendations)"
   ]
  },
  {
   "cell_type": "markdown",
   "id": "surface-boring",
   "metadata": {},
   "source": [
    "## Import libraries and datasets"
   ]
  },
  {
   "cell_type": "code",
   "execution_count": 1,
   "id": "according-simple",
   "metadata": {},
   "outputs": [],
   "source": [
    "# Import libraries\n",
    "import pandas as pd # For placing the data into dataframes for analysis\n",
    "import numpy as np\n",
    "import matplotlib.pyplot as plt\n",
    "import matplotlib.cm as cm\n",
    "import itertools as itl\n",
    "import sklearn\n",
    "import pickle\n",
    "\n",
    "from sklearn.linear_model import SGDClassifier\n",
    "# from sklearn.model_selection import train_test_split, cross_val_predict, KFold, StratifiedKFold, cross_val_score\n",
    "from sklearn.metrics import classification_report, confusion_matrix, roc_auc_score, roc_curve, plot_roc_curve, plot_confusion_matrix\n",
    "\n",
    "# using jupyter magic to display plots in line\n",
    "%matplotlib inline"
   ]
  },
  {
   "cell_type": "code",
   "execution_count": 2,
   "id": "genuine-segment",
   "metadata": {},
   "outputs": [],
   "source": [
    "# Import training datasets\n",
    "test = pd.read_csv(\"../datasets/test_2.csv\")\n",
    "X_train = pd.read_csv(\"../datasets/X_train.csv\") # to check and ensure the columns are the same as the test set"
   ]
  },
  {
   "cell_type": "code",
   "execution_count": 3,
   "id": "commercial-seven",
   "metadata": {},
   "outputs": [
    {
     "data": {
      "text/plain": [
       "(225639, 24)"
      ]
     },
     "execution_count": 3,
     "metadata": {},
     "output_type": "execute_result"
    }
   ],
   "source": [
    "# Check shape of test set\n",
    "test.shape"
   ]
  },
  {
   "cell_type": "code",
   "execution_count": 4,
   "id": "aerial-sample",
   "metadata": {},
   "outputs": [],
   "source": [
    "X_col = test.drop(columns = 'loan_status').columns\n",
    "X = test[X_col]\n",
    "y = test['loan_status']"
   ]
  },
  {
   "cell_type": "code",
   "execution_count": 5,
   "id": "polish-parker",
   "metadata": {},
   "outputs": [
    {
     "name": "stdout",
     "output_type": "stream",
     "text": [
      "23\n",
      "23\n"
     ]
    }
   ],
   "source": [
    "print(X.shape[1])\n",
    "print(X_train.shape[1])"
   ]
  },
  {
   "cell_type": "code",
   "execution_count": 6,
   "id": "institutional-jamaica",
   "metadata": {},
   "outputs": [
    {
     "data": {
      "text/plain": [
       "Index(['loan_amnt', 'term', 'int_rate', 'inq_last_6mths', 'inq_last_12m',\n",
       "       'acc_open_past_24mths', 'bc_open_to_buy', 'mo_sin_old_rev_tl_op',\n",
       "       'mo_sin_rcnt_tl', 'mort_acc', 'mths_since_recent_bc',\n",
       "       'num_rev_tl_bal_gt_0', 'percent_bc_gt_75', 'tot_hi_cred_lim',\n",
       "       'total_dti_consol', 'sub_grade_d', 'fico_median',\n",
       "       'home_ownership_MORTGAGE', 'home_ownership_NONE', 'home_ownership_OWN',\n",
       "       'home_ownership_RENT', 'verification_status_Source Verified',\n",
       "       'verification_status_Verified'],\n",
       "      dtype='object')"
      ]
     },
     "execution_count": 6,
     "metadata": {},
     "output_type": "execute_result"
    }
   ],
   "source": [
    "X.columns"
   ]
  },
  {
   "cell_type": "code",
   "execution_count": 7,
   "id": "western-drunk",
   "metadata": {},
   "outputs": [
    {
     "data": {
      "text/plain": [
       "Index(['loan_amnt', 'term', 'int_rate', 'inq_last_6mths', 'inq_last_12m',\n",
       "       'acc_open_past_24mths', 'bc_open_to_buy', 'mo_sin_old_rev_tl_op',\n",
       "       'mo_sin_rcnt_tl', 'mort_acc', 'mths_since_recent_bc',\n",
       "       'num_rev_tl_bal_gt_0', 'percent_bc_gt_75', 'tot_hi_cred_lim',\n",
       "       'total_dti_consol', 'sub_grade_d', 'fico_median',\n",
       "       'home_ownership_MORTGAGE', 'home_ownership_NONE', 'home_ownership_OWN',\n",
       "       'home_ownership_RENT', 'verification_status_Source Verified',\n",
       "       'verification_status_Verified'],\n",
       "      dtype='object')"
      ]
     },
     "execution_count": 7,
     "metadata": {},
     "output_type": "execute_result"
    }
   ],
   "source": [
    "X_train.columns"
   ]
  },
  {
   "cell_type": "code",
   "execution_count": 8,
   "id": "intermediate-double",
   "metadata": {},
   "outputs": [
    {
     "data": {
      "text/plain": [
       "0    0\n",
       "1    0\n",
       "2    0\n",
       "3    0\n",
       "4    0\n",
       "Name: loan_status, dtype: int64"
      ]
     },
     "execution_count": 8,
     "metadata": {},
     "output_type": "execute_result"
    }
   ],
   "source": [
    "# Check on imported y train\n",
    "y.head()"
   ]
  },
  {
   "cell_type": "code",
   "execution_count": 9,
   "id": "reserved-buffalo",
   "metadata": {},
   "outputs": [
    {
     "data": {
      "text/plain": [
       "dtype('int64')"
      ]
     },
     "execution_count": 9,
     "metadata": {},
     "output_type": "execute_result"
    }
   ],
   "source": [
    "# Check datatype of y_train\n",
    "y.dtypes"
   ]
  },
  {
   "cell_type": "code",
   "execution_count": 10,
   "id": "competitive-caution",
   "metadata": {},
   "outputs": [],
   "source": [
    "# Convert to an array for model\n",
    "y = np.ravel(y)"
   ]
  },
  {
   "cell_type": "code",
   "execution_count": 11,
   "id": "recovered-childhood",
   "metadata": {},
   "outputs": [
    {
     "data": {
      "text/plain": [
       "(225639,)"
      ]
     },
     "execution_count": 11,
     "metadata": {},
     "output_type": "execute_result"
    }
   ],
   "source": [
    "# Check shape of y_train data\n",
    "y.shape"
   ]
  },
  {
   "cell_type": "markdown",
   "id": "accredited-hostel",
   "metadata": {},
   "source": [
    "## Model Optimisation and Implementation"
   ]
  },
  {
   "cell_type": "code",
   "execution_count": 12,
   "id": "periodic-circle",
   "metadata": {},
   "outputs": [],
   "source": [
    "# Instantiate the with the best parameters\n",
    "sgd = SGDClassifier(loss = 'log',\n",
    "                    penalty = 'elasticnet',\n",
    "                    class_weight = 'balanced',\n",
    "                    n_jobs = -1,\n",
    "                    alpha = 1,\n",
    "                    l1_ratio = 0)"
   ]
  },
  {
   "cell_type": "code",
   "execution_count": 13,
   "id": "hindu-greenhouse",
   "metadata": {},
   "outputs": [],
   "source": [
    "sgd.fit(X, y)\n",
    "sgd_pred = sgd.predict(X)"
   ]
  },
  {
   "cell_type": "code",
   "execution_count": 14,
   "id": "thrown-parker",
   "metadata": {},
   "outputs": [
    {
     "name": "stdout",
     "output_type": "stream",
     "text": [
      "              precision    recall  f1-score   support\n",
      "\n",
      "    Paid Off       0.82      0.87      0.85    177596\n",
      "   Defaulted       0.39      0.31      0.35     48043\n",
      "\n",
      "    accuracy                           0.75    225639\n",
      "   macro avg       0.61      0.59      0.60    225639\n",
      "weighted avg       0.73      0.75      0.74    225639\n",
      "\n"
     ]
    }
   ],
   "source": [
    "labels = ['Paid Off', 'Defaulted']\n",
    "print(classification_report(y, sgd_pred, target_names=labels))"
   ]
  },
  {
   "cell_type": "code",
   "execution_count": 15,
   "id": "closed-population",
   "metadata": {},
   "outputs": [
    {
     "data": {
      "image/png": "[encoded data removed]",
      "text/plain": [
       "<Figure size 432x288 with 1 Axes>"
      ]
     },
     "metadata": {
      "needs_background": "light"
     },
     "output_type": "display_data"
    },
    {
     "data": {
      "text/plain": [
       "<Figure size 1296x1008 with 0 Axes>"
      ]
     },
     "metadata": {},
     "output_type": "display_data"
    }
   ],
   "source": [
    "# Plot AUC ROC graph\n",
    "plot_roc_curve(sgd, X, y)\n",
    "plt.plot([0, 1], [0, 1],'r--')\n",
    "plt.title('ROC-AUC Graph for SGD Classifier', fontsize=15)\n",
    "plt.xlabel('1 - Specificity', fontsize=12)\n",
    "plt.ylabel('Sensitivity', fontsize=12)\n",
    "plt.figure(figsize = (18,14))\n",
    "plt.show();"
   ]
  },
  {
   "cell_type": "code",
   "execution_count": 16,
   "id": "annoying-buying",
   "metadata": {},
   "outputs": [
    {
     "data": {
      "image/png": "[encoded data removed]",
      "text/plain": [
       "<Figure size 432x288 with 2 Axes>"
      ]
     },
     "metadata": {
      "needs_background": "light"
     },
     "output_type": "display_data"
    },
    {
     "data": {
      "text/plain": [
       "<Figure size 1296x1008 with 0 Axes>"
      ]
     },
     "metadata": {},
     "output_type": "display_data"
    }
   ],
   "source": [
    "#Plot confusion matrix\n",
    "plot_confusion_matrix(sgd, X, y, cmap = 'Blues')\n",
    "plt.title('Confusion Matrix for Loan Status', fontsize=15)\n",
    "plt.xlabel('Predicted Loan Status', fontsize=12)\n",
    "plt.ylabel('Actual Loan Status', fontsize=12)\n",
    "plt.figure(figsize = (18,14))\n",
    "plt.show();"
   ]
  },
  {
   "cell_type": "markdown",
   "id": "concrete-runner",
   "metadata": {},
   "source": [
    "## Conclusion\n",
    "Based on the statistics gleaned from the statistics in the classfication report, it can be seen that the model tends to predict loans that will be paid off better. The prediction of loans that will be paid off have a precision score of 0.81, while those which were predicted to be defaulted have a score of only 0.40. This is amplified by the F1 score as the Paid Off label had a score of 0.81 and it is rather lopsided for the defaulted loans. The graphic representation of the aforementioned can be seen from the confusion matrix graph.\n",
    "\n",
    "In conclusion, this model is more catered towards picking out the loans that can be paid off. This might be more suitable to lenders, especially the conservative ones, as it has a better accuracy in predicting if the loan will be paid off. It can be worked on further to improve its performance and hopefully a better model can be rolled out to help investors avoid loans that will be defaulted."
   ]
  },
  {
   "cell_type": "markdown",
   "id": "dominican-terrace",
   "metadata": {},
   "source": [
    "## Recommendations\n",
    "As the model does not show a satisfactory accuracy in predicting if the loans will be paid off or defaulted. I would look into improving the model by:\n",
    "* Using feature engineering to get features improve the accuracy\n",
    "* Taking timing of the data to better generalise the data used for the model"
   ]
  },
  {
   "cell_type": "code",
   "execution_count": null,
   "id": "studied-reply",
   "metadata": {},
   "outputs": [],
   "source": []
  }
 ],
 "metadata": {
  "kernelspec": {
   "display_name": "Python 3",
   "language": "python",
   "name": "python3"
  },
  "language_info": {
   "codemirror_mode": {
    "name": "ipython",
    "version": 3
   },
   "file_extension": ".py",
   "mimetype": "text/x-python",
   "name": "python",
   "nbconvert_exporter": "python",
   "pygments_lexer": "ipython3",
   "version": "3.8.5"
  }
 },
 "nbformat": 4,
 "nbformat_minor": 5
}
